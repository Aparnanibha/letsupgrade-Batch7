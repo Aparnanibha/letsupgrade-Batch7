{
 "cells": [
  {
   "cell_type": "markdown",
   "metadata": {},
   "source": [
    "# Assignmemnt 1"
   ]
  },
  {
   "cell_type": "markdown",
   "metadata": {},
   "source": [
    "For this challenge, create one cone class that has two attribute\n",
    "*R = radius\n",
    "*h = height\n",
    "and two methods\n",
    "*volume = pie * r*r * (h/3)\n",
    "*surface area = pie * r*r + pie * r* squareroot((r*r) + (h*h))\n",
    "\n",
    "Make one class with function as in where required import math"
   ]
  },
  {
   "cell_type": "code",
   "execution_count": 23,
   "metadata": {},
   "outputs": [],
   "source": [
    "import math\n",
    "pi = math.pi\n",
    "sqrt = math.sqrt\n",
    "\n",
    "class cone():\n",
    "    def __init__(self,radius,height):\n",
    "        self.radius = radius\n",
    "        self.height = height\n",
    "        \n",
    "    def volumeOfCone(self):\n",
    "        return pi*self.radius*self.radius*(self.height/3)\n",
    "    \n",
    "    def surfaceArea(self):\n",
    "        return pi*self.radius*self.radius + pi*self.radius*sqrt(self.radius*self.radius + self.height*self.height)\n",
    "        "
   ]
  },
  {
   "cell_type": "code",
   "execution_count": 24,
   "metadata": {},
   "outputs": [],
   "source": [
    "details = cone(2,3)"
   ]
  },
  {
   "cell_type": "code",
   "execution_count": 25,
   "metadata": {},
   "outputs": [
    {
     "data": {
      "text/plain": [
       "12.566370614359172"
      ]
     },
     "execution_count": 25,
     "metadata": {},
     "output_type": "execute_result"
    }
   ],
   "source": [
    "details.volumeOfCone()"
   ]
  },
  {
   "cell_type": "code",
   "execution_count": 26,
   "metadata": {},
   "outputs": [
    {
     "data": {
      "text/plain": [
       "35.22071741263713"
      ]
     },
     "execution_count": 26,
     "metadata": {},
     "output_type": "execute_result"
    }
   ],
   "source": [
    "details.surfaceArea()"
   ]
  },
  {
   "cell_type": "markdown",
   "metadata": {},
   "source": [
    "# ASSIGNMENT- 2"
   ]
  },
  {
   "cell_type": "markdown",
   "metadata": {},
   "source": [
    "For this challenge , create a bank account class that has two attributes\n",
    "1)ownerName  2) balance\n",
    "and two method\n",
    "1) deposit 2)withdraw\n",
    "As an added requirement ,withdraw may not exceed the available balance\n",
    "instantiate your class, make several deposit and withdrawl and test to make sure the account can't be overdrawn"
   ]
  },
  {
   "cell_type": "code",
   "execution_count": 2,
   "metadata": {},
   "outputs": [],
   "source": [
    "class bankAccount():\n",
    "    def __init__(self,ownername, balance):\n",
    "        self.ownername = ownername\n",
    "        self.balance = balance\n",
    "        \n",
    "    def deposit(self):\n",
    "        amount = float(input(\"Enter amount to be deposited:\"))\n",
    "        self.balance += amount\n",
    "        print(\"\\n amount deposited:\", amount)\n",
    "        \n",
    "    def withdrawl(self):\n",
    "        amount = float(input(\"Enter amount to be withdrawl:\"))\n",
    "        if self.balance >= amount:\n",
    "            self.balance -= amount\n",
    "            print(\"\\n You withdrawl:\",amount)\n",
    "        else:\n",
    "            print(\"\\n insufficient balance\")\n",
    "                             \n",
    "    def display(self):\n",
    "        return (\"Net available balance=\",self.balance)\n",
    "                             "
   ]
  },
  {
   "cell_type": "code",
   "execution_count": 5,
   "metadata": {},
   "outputs": [],
   "source": [
    "test = bankAccount(\"Aparna\",2000)"
   ]
  },
  {
   "cell_type": "code",
   "execution_count": 6,
   "metadata": {},
   "outputs": [
    {
     "name": "stdout",
     "output_type": "stream",
     "text": [
      "Enter amount to be deposited:3000\n",
      "\n",
      " amount deposited: 3000.0\n"
     ]
    }
   ],
   "source": [
    "test.deposit()"
   ]
  },
  {
   "cell_type": "code",
   "execution_count": 7,
   "metadata": {},
   "outputs": [
    {
     "name": "stdout",
     "output_type": "stream",
     "text": [
      "Enter amount to be withdrawl:1000\n",
      "\n",
      " You withdrawl: 1000.0\n"
     ]
    }
   ],
   "source": [
    "test.withdrawl()"
   ]
  },
  {
   "cell_type": "code",
   "execution_count": 8,
   "metadata": {},
   "outputs": [
    {
     "data": {
      "text/plain": [
       "('Net available balance=', 4000.0)"
      ]
     },
     "execution_count": 8,
     "metadata": {},
     "output_type": "execute_result"
    }
   ],
   "source": [
    "test.display()"
   ]
  },
  {
   "cell_type": "code",
   "execution_count": 10,
   "metadata": {},
   "outputs": [
    {
     "name": "stdout",
     "output_type": "stream",
     "text": [
      "Enter amount to be withdrawl:4000\n",
      "\n",
      " You withdrawl: 4000.0\n"
     ]
    }
   ],
   "source": [
    "test.withdrawl()"
   ]
  },
  {
   "cell_type": "code",
   "execution_count": 11,
   "metadata": {},
   "outputs": [
    {
     "data": {
      "text/plain": [
       "('Net available balance=', 0.0)"
      ]
     },
     "execution_count": 11,
     "metadata": {},
     "output_type": "execute_result"
    }
   ],
   "source": [
    "test.display()\n"
   ]
  },
  {
   "cell_type": "code",
   "execution_count": 12,
   "metadata": {},
   "outputs": [
    {
     "name": "stdout",
     "output_type": "stream",
     "text": [
      "Enter amount to be withdrawl:1000\n",
      "\n",
      " insufficient balance\n"
     ]
    }
   ],
   "source": [
    "test.withdrawl()"
   ]
  },
  {
   "cell_type": "code",
   "execution_count": null,
   "metadata": {},
   "outputs": [],
   "source": []
  }
 ],
 "metadata": {
  "kernelspec": {
   "display_name": "Python 3",
   "language": "python",
   "name": "python3"
  },
  "language_info": {
   "codemirror_mode": {
    "name": "ipython",
    "version": 3
   },
   "file_extension": ".py",
   "mimetype": "text/x-python",
   "name": "python",
   "nbconvert_exporter": "python",
   "pygments_lexer": "ipython3",
   "version": "3.7.6"
  }
 },
 "nbformat": 4,
 "nbformat_minor": 4
}
