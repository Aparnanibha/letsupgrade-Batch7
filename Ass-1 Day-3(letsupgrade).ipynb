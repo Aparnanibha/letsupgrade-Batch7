{
 "cells": [
  {
   "cell_type": "code",
   "execution_count": 2,
   "metadata": {},
   "outputs": [],
   "source": [
    "#You all are pilots, you have to land the plane , yhe altitude required for landing the plane is 1000ft, \n",
    "#if it less than that then tell pilot to land the plane , or it is more than that but less than 5000ft ask the\n",
    "# pilot to come down to 1000ft, else if it is more than 5000ft than told pilot to go around and try later"
   ]
  },
  {
   "cell_type": "code",
   "execution_count": 4,
   "metadata": {},
   "outputs": [
    {
     "name": "stdout",
     "output_type": "stream",
     "text": [
      "enter the altitude-3000\n",
      "Bring Down to 1000ft\n"
     ]
    }
   ],
   "source": [
    "altitude = input(\"enter the altitude-\")\n",
    "altitude = int (altitude)\n",
    "\n",
    "if altitude <= 1000:\n",
    "    print(\"Safe to land\")\n",
    "elif altitude > 1000 and altitude <= 5000:\n",
    "    print(\"Bring Down to 1000ft\")\n",
    "else:\n",
    "    print(\"turn around\")"
   ]
  },
  {
   "cell_type": "code",
   "execution_count": null,
   "metadata": {},
   "outputs": [],
   "source": []
  },
  {
   "cell_type": "code",
   "execution_count": null,
   "metadata": {},
   "outputs": [],
   "source": []
  }
 ],
 "metadata": {
  "kernelspec": {
   "display_name": "Python 3",
   "language": "python",
   "name": "python3"
  },
  "language_info": {
   "codemirror_mode": {
    "name": "ipython",
    "version": 3
   },
   "file_extension": ".py",
   "mimetype": "text/x-python",
   "name": "python",
   "nbconvert_exporter": "python",
   "pygments_lexer": "ipython3",
   "version": "3.7.6"
  }
 },
 "nbformat": 4,
 "nbformat_minor": 4
}
